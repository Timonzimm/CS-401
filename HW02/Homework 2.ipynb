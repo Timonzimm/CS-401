{
 "cells": [
  {
   "cell_type": "markdown",
   "metadata": {},
   "source": [
    "# 02 - Data from the Web\n",
    "\n",
    "## Deadline\n",
    "Wednesday October 25, 2017 at 11:59PM\n",
    "\n",
    "## Important Notes\n",
    "* Make sure you push on GitHub your Notebook with all the cells already evaluated (i.e., you don't want your colleagues to generate unnecessary Web traffic during the peer review)\n",
    "* Don't forget to add a textual description of your thought process, the assumptions you made, and the solution you plan to implement!\n",
    "* Please write all your comments in English, and use meaningful variable names in your code.\n",
    "\n",
    "## Background\n",
    "In this homework we will extract interesting information from www.toptop_universities.com and www.timeshighereducation.com, two platforms that maintain a global ranking of worldwide top_universities. This ranking is not offered as a downloadable dataset, so you will have to find a way to scrape the information we need!\n",
    "You are not allowed to download manually the entire ranking -- rather you have to understand how the server loads it in your browser. For this task, Postman with the Interceptor extension can help you greatly. We recommend that you watch this [brief tutorial](https://www.youtube.com/watch?v=jBjXVrS8nXs&list=PLM-7VG-sgbtD8qBnGeQM5nvlpqB_ktaLZ&autoplay=1) to understand quickly how to use it.\n",
    "\n",
    "## Assignment\n",
    "1. Obtain the 200 top-ranking top_universities in www.toptop_universities.com ([ranking 2018](https://www.toptop_universities.com/university-rankings/world-university-rankings/2018)). In particular, extract the following fields for each university: name, rank, country and region, number of faculty members (international and total) and number of students (international and total). Some information is not available in the main list and you have to find them in the [details page](https://www.toptop_universities.com/top_universities/ecole-polytechnique-fédérale-de-lausanne-epfl).\n",
    "Store the resulting dataset in a pandas DataFrame and answer the following questions:\n",
    "- Which are the best top_universities in term of: (a) ratio between faculty members and students, (b) ratio of international students?\n",
    "- Answer the previous question aggregating the data by (c) country and (d) region.\n",
    "\n",
    "Plot your data using bar charts and describe briefly what you observed.\n",
    "\n",
    "2. Obtain the 200 top-ranking top_universities in www.timeshighereducation.com ([ranking 2018](http://timeshighereducation.com/world-university-rankings/2018/world-ranking)). Repeat the analysis of the previous point and discuss briefly what you observed.\n",
    "\n",
    "3. Merge the two DataFrames created in questions 1 and 2 using university names. Match top_universities' names as well as you can, and explain your strategy. Keep track of the original position in both rankings.\n",
    "\n",
    "4. Find useful insights in the data by performing an exploratory analysis. Can you find a strong correlation between any pair of variables in the dataset you just created? Example: when a university is strong in its international dimension, can you observe a consistency both for students and faculty members?\n",
    "\n",
    "5. Can you find the best university taking in consideration both rankings? Explain your approach.\n",
    "\n",
    "Hints:\n",
    "- Keep your Notebook clean and don't print the verbose output of the requests if this does not add useful information for the reader.\n",
    "- In case of tie, use the order defined in the webpage."
   ]
  },
  {
   "cell_type": "code",
   "execution_count": 1,
   "metadata": {},
   "outputs": [],
   "source": [
    "import requests, re, html\n",
    "import pandas as pd\n",
    "import numpy as np\n",
    "import seaborn as sns\n",
    "import matplotlib.pyplot as plt\n",
    "from bs4 import BeautifulSoup\n",
    "\n",
    "from tqdm import tqdm_notebook\n",
    "import warnings\n",
    "warnings.filterwarnings('ignore')\n",
    "\n",
    "NUM_OBS = 200"
   ]
  },
  {
   "cell_type": "markdown",
   "metadata": {},
   "source": [
    "# www.topuniversities.com"
   ]
  },
  {
   "cell_type": "code",
   "execution_count": 2,
   "metadata": {
    "collapsed": true
   },
   "outputs": [],
   "source": [
    "root_url_1 = 'https://www.topuniversities.com'\n",
    "# we use the link to the API from where the website fetches its data instead of BeautifulSoup\n",
    "# much much cleaner\n",
    "list_url_1 = root_url_1 + '/sites/default/files/qs-rankings-data/357051_indicators.txt'\n",
    "\n",
    "r = requests.get(list_url_1)\n",
    "top_universities = pd.DataFrame()\n",
    "top_universities = top_universities.from_dict(r.json()['data'])[['uni', 'overall_rank', 'location', 'region']]\n",
    "# get the university name and details URL with a regex\n",
    "top_universities['name'] = top_universities['uni'].apply(lambda name: html.unescape(re.findall('<a[^>]+href=\\\"(.*?)\\\"[^>]*>(.*)?</a>', name)[0][1]))\n",
    "top_universities['url'] = top_universities['uni'].apply(lambda name: html.unescape(re.findall('<a[^>]+href=\\\"(.*?)\\\"[^>]*>(.*)?</a>', name)[0][0]))\n",
    "top_universities.drop('uni', axis=1, inplace=True)\n",
    "top_universities['overall_rank'] = top_universities['overall_rank'].astype(int)"
   ]
  },
  {
   "cell_type": "code",
   "execution_count": 3,
   "metadata": {
    "collapsed": true
   },
   "outputs": [],
   "source": [
    "# selects the top N rows based on the colum_name of the dataframe df \n",
    "def select_top_N(df, column_name, N):\n",
    "    df = df.sort_values(by=column_name)\n",
    "    df = df[df[column_name] <= N]\n",
    "    return df"
   ]
  },
  {
   "cell_type": "code",
   "execution_count": null,
   "metadata": {},
   "outputs": [
    {
     "data": {
      "text/html": [
       "<div>\n",
       "<table border=\"1\" class=\"dataframe\">\n",
       "  <thead>\n",
       "    <tr style=\"text-align: right;\">\n",
       "      <th></th>\n",
       "      <th>overall_rank</th>\n",
       "      <th>location</th>\n",
       "      <th>region</th>\n",
       "      <th>name</th>\n",
       "      <th>url</th>\n",
       "    </tr>\n",
       "  </thead>\n",
       "  <tbody>\n",
       "    <tr>\n",
       "      <th>0</th>\n",
       "      <td>1</td>\n",
       "      <td>United States</td>\n",
       "      <td>North America</td>\n",
       "      <td>Massachusetts Institute of Technology (MIT)</td>\n",
       "      <td>/universities/massachusetts-institute-technolo...</td>\n",
       "    </tr>\n",
       "    <tr>\n",
       "      <th>1</th>\n",
       "      <td>2</td>\n",
       "      <td>United States</td>\n",
       "      <td>North America</td>\n",
       "      <td>Stanford University</td>\n",
       "      <td>/universities/stanford-university</td>\n",
       "    </tr>\n",
       "    <tr>\n",
       "      <th>2</th>\n",
       "      <td>3</td>\n",
       "      <td>United States</td>\n",
       "      <td>North America</td>\n",
       "      <td>Harvard University</td>\n",
       "      <td>/universities/harvard-university</td>\n",
       "    </tr>\n",
       "    <tr>\n",
       "      <th>3</th>\n",
       "      <td>4</td>\n",
       "      <td>United States</td>\n",
       "      <td>North America</td>\n",
       "      <td>California Institute of Technology (Caltech)</td>\n",
       "      <td>/universities/california-institute-technology-...</td>\n",
       "    </tr>\n",
       "    <tr>\n",
       "      <th>4</th>\n",
       "      <td>5</td>\n",
       "      <td>United Kingdom</td>\n",
       "      <td>Europe</td>\n",
       "      <td>University of Cambridge</td>\n",
       "      <td>/universities/university-cambridge</td>\n",
       "    </tr>\n",
       "  </tbody>\n",
       "</table>\n",
       "</div>"
      ],
      "text/plain": [
       "   overall_rank        location         region  \\\n",
       "0             1   United States  North America   \n",
       "1             2   United States  North America   \n",
       "2             3   United States  North America   \n",
       "3             4   United States  North America   \n",
       "4             5  United Kingdom         Europe   \n",
       "\n",
       "                                           name  \\\n",
       "0  Massachusetts Institute of Technology (MIT)    \n",
       "1                           Stanford University   \n",
       "2                            Harvard University   \n",
       "3  California Institute of Technology (Caltech)   \n",
       "4                       University of Cambridge   \n",
       "\n",
       "                                                 url  \n",
       "0  /universities/massachusetts-institute-technolo...  \n",
       "1                  /universities/stanford-university  \n",
       "2                   /universities/harvard-university  \n",
       "3  /universities/california-institute-technology-...  \n",
       "4                 /universities/university-cambridge  "
      ]
     },
     "execution_count": 4,
     "metadata": {},
     "output_type": "execute_result"
    }
   ],
   "source": [
    "# get only the first top-200 universities by overall rank\n",
    "top_universities = select_top_N(top_universities, 'overall_rank', NUM_OBS)\n",
    "top_universities.head()"
   ]
  },
  {
   "cell_type": "code",
   "execution_count": null,
   "metadata": {
    "scrolled": false
   },
   "outputs": [
    {
     "data": {
      "application/vnd.jupyter.widget-view+json": {
       "model_id": "3690f15fe5494152aab973efa1a184f7"
      }
     },
     "metadata": {},
     "output_type": "display_data"
    }
   ],
   "source": [
    "students_total = []\n",
    "students_inter = []\n",
    "faculty_total = []\n",
    "faculty_inter = []\n",
    "\n",
    "def get_num(soup, selector):\n",
    "    scraped = soup.select(selector)\n",
    "    # Some top_universities don't have stats, return NaN for these case\n",
    "    if scraped:\n",
    "        return int(scraped[0].contents[0].replace(',', ''))\n",
    "    else:\n",
    "        return np.NaN\n",
    "\n",
    "\n",
    "for details_url in tqdm_notebook(top_universities['url']):\n",
    "    soup = BeautifulSoup(requests.get(root_url_1 + details_url).text, 'html.parser')\n",
    "    \n",
    "    students_total.append(get_num(soup, 'div.total.student div.number'))\n",
    "    students_inter.append(get_num(soup, 'div.total.inter div.number'))\n",
    "    faculty_total.append(get_num(soup, 'div.total.faculty div.number'))\n",
    "    faculty_inter.append(get_num(soup, 'div.inter.faculty div.number'))\n",
    "\n",
    "\n",
    "top_universities['students_total'] = students_total\n",
    "top_universities['students_international'] = students_inter\n",
    "top_universities['students_national'] = top_universities['students_total'] - top_universities['students_international']\n",
    "top_universities['faculty_total'] = faculty_total\n",
    "top_universities['faculty_international'] = faculty_inter\n",
    "top_universities['faculty_national'] = top_universities['faculty_total'] - top_universities['faculty_international']\n",
    "\n",
    "top_universities.head()"
   ]
  },
  {
   "cell_type": "code",
   "execution_count": null,
   "metadata": {
    "collapsed": true
   },
   "outputs": [],
   "source": [
    "#defining colors for each type of plot\n",
    "colors_1 = ['#FF9F9A', '#D0BBFF']\n",
    "colors_2 = ['#92C6FF', '#97F0AA']\n",
    "plt.style.use('ggplot')"
   ]
  },
  {
   "cell_type": "markdown",
   "metadata": {},
   "source": [
    "# Best universities in term of:\n",
    "\n",
    "We selected the top 10 universities in point (a) and (b). For point (c) and (d), the top 200 universities were used in order to have more data.\n",
    "\n",
    "## (a) ratio between faculty members and students"
   ]
  },
  {
   "cell_type": "code",
   "execution_count": null,
   "metadata": {
    "collapsed": true
   },
   "outputs": [],
   "source": [
    "top = 10\n",
    "top_universities_ratio = select_top_N(top_universities, 'overall_rank', top)"
   ]
  },
  {
   "cell_type": "code",
   "execution_count": null,
   "metadata": {},
   "outputs": [],
   "source": [
    "top_universities_ratio_sf = top_universities_ratio[['name', 'students_total', 'faculty_total']]\n",
    "top_universities_ratio_sf = top_universities_ratio_sf.set_index(['name'])\n",
    "top_universities_ratio_sf.index.name = None\n",
    "\n",
    "fig, axes = plt.subplots(1, 1, figsize=(10,5), sharey=True)\n",
    "top_universities_ratio_sf.plot.bar(stacked=True, color=colors_1, ax=axes)\n",
    "axes.set_title('Top 10 ratio\\'s between students and faculty members among universities')\n",
    "axes.legend(labels=['students', 'faculty members'], bbox_to_anchor=(1.05, 1), loc=2, borderaxespad=0.)\n",
    "fig.autofmt_xdate()\n",
    "plt.show()"
   ]
  },
  {
   "cell_type": "markdown",
   "metadata": {},
   "source": [
    "**Comments:** We see that it is rather difficult to compare the ratios of the different universities. This is due to the different sizes of the population. In order to draw more precise information about it, we need to normalize the data with repect to each university."
   ]
  },
  {
   "cell_type": "code",
   "execution_count": null,
   "metadata": {},
   "outputs": [],
   "source": [
    "# normalize the data to be able to make a good comparison\n",
    "top_universities_ratio_normed = top_universities_ratio_sf.div(top_universities_ratio_sf.sum(1), axis=0).sort_values(by='faculty_total', ascending=False)\n",
    "top_universities_ratio_normed.index.name = None\n",
    "\n",
    "fig, axes = plt.subplots(1, 1, figsize=(10,5), sharey=True)\n",
    "top_universities_ratio_normed.plot.bar(stacked=True, color=colors_1, ax=axes)\n",
    "axes.set_title('Top 10 ratio\\'s between students and faculty members among universities')\n",
    "axes.legend(labels=['students', 'faculty members'], bbox_to_anchor=(1.05, 1), loc=2, borderaxespad=0.)\n",
    "# we can restrict the range on the y axis to avoid displaying unnecessary content\n",
    "axes.set_ylim([0.7,1])\n",
    "fig.autofmt_xdate()\n",
    "plt.show()"
   ]
  },
  {
   "cell_type": "markdown",
   "metadata": {},
   "source": [
    "**Comments**: You noticed that the y-axis ranges from 0.7 to 1. We limited the visualization to this interval because the complete interval does not add meaningful insight about the data. Analyzing the results, we see that the Caltech university is the university in the top 10 offering more faculty members to its students. ETHZ is in the last position."
   ]
  },
  {
   "cell_type": "markdown",
   "metadata": {},
   "source": [
    "## (b) ratio of international students"
   ]
  },
  {
   "cell_type": "code",
   "execution_count": null,
   "metadata": {},
   "outputs": [],
   "source": [
    "top_universities_ratio_s = top_universities_ratio[['name', 'students_international', 'students_national']]\n",
    "top_universities_ratio_s = top_universities_ratio_s.set_index(['name'])\n",
    "top_universities_ratio_s_normed = top_universities_ratio_s.div(top_universities_ratio_s.sum(1), axis=0).sort_values(by='students_international', ascending=False)\n",
    "top_universities_ratio_s_normed.index.name = None\n",
    "\n",
    "fig, axes = plt.subplots(1, 1, figsize=(10, 5))\n",
    "top_universities_ratio_s_normed.plot.bar(stacked=True, color=colors_2, ax=axes)\n",
    "axes.set_title('Top 10 ratio\\'s of international and national students among universities')\n",
    "axes.legend(labels=['international students', 'national students'], bbox_to_anchor=(1.05, 1), loc=2, borderaxespad=0.)\n",
    "axes.set_ylim([0, 0.6])\n",
    "fig.autofmt_xdate()\n",
    "plt.show()"
   ]
  },
  {
   "cell_type": "markdown",
   "metadata": {},
   "source": [
    "**Comments**: The most international university, by its students, among the top 10 universities is the Imperial College London. Notice that ETHZ is in the third position."
   ]
  },
  {
   "cell_type": "markdown",
   "metadata": {},
   "source": [
    "## (c) same comparisons by country"
   ]
  },
  {
   "cell_type": "code",
   "execution_count": null,
   "metadata": {},
   "outputs": [],
   "source": [
    "ratio_country_sf = top_universities.groupby(['location'])['students_total', 'faculty_total'].sum()\n",
    "ratio_country_sf_normed = ratio_country_sf.div(ratio_country_sf.sum(1), axis=0).sort_values(by='faculty_total', ascending=False)\n",
    "ratio_country_sf_normed.index.name = None\n",
    "\n",
    "fig, axes = plt.subplots(1, 1, figsize=(15, 5))\n",
    "ratio_country_sf_normed.plot.bar(stacked=True, color=colors_1, ax=axes)\n",
    "axes.set_title('Ratio of students and faculty members by country')\n",
    "axes.legend(labels=['students', 'faculty members'], bbox_to_anchor=(1.05, 1), loc=2, borderaxespad=0.)\n",
    "axes.set_ylim([0.8,1])\n",
    "fig.autofmt_xdate()\n",
    "plt.show()"
   ]
  },
  {
   "cell_type": "code",
   "execution_count": null,
   "metadata": {},
   "outputs": [],
   "source": [
    "ratio_country_s = top_universities.groupby(['location'])['students_international', 'students_national'].sum()\n",
    "ratio_country_s_normed = ratio_country_s.div(ratio_country_s.sum(1), axis=0).sort_values(by='students_international', ascending=False)\n",
    "ratio_country_s_normed.index.name = None\n",
    "\n",
    "fig, axes = plt.subplots(1, 1, figsize=(15, 5))\n",
    "ratio_country_s_normed.plot.bar(stacked=True, color=colors_2, ax=axes)\n",
    "axes.set_title('Ratio of international and national students by country')\n",
    "axes.legend(labels=['international students', 'national students'], bbox_to_anchor=(1.05, 1), loc=2, borderaxespad=0.)\n",
    "axes.set_ylim([0, 0.4])\n",
    "fig.autofmt_xdate()\n",
    "plt.show()"
   ]
  },
  {
   "cell_type": "markdown",
   "metadata": {},
   "source": [
    "**Comments**: Aggregating the data by country, we see that Russia is the country offering more faculty members for its student, followed by Danemark and Saudi Arabia. The most international university in terms of students is Australia, followed by United Kingdom and Hong Kong. Switzerland is in the fifth position and India is the country with the lowest ratio of international students.  "
   ]
  },
  {
   "cell_type": "markdown",
   "metadata": {},
   "source": [
    "## (d) same comparisons by region"
   ]
  },
  {
   "cell_type": "code",
   "execution_count": null,
   "metadata": {},
   "outputs": [],
   "source": [
    "ratio_region_s = top_universities.groupby(['region'])['students_total', 'faculty_total'].sum()\n",
    "ratio_region_s_normed = ratio_region_s.div(ratio_region_s.sum(1), axis=0).sort_values(by='faculty_total', ascending=False)\n",
    "ratio_region_s_normed.index.name = None\n",
    "\n",
    "fig, axes = plt.subplots(1, 1, figsize=(10,5), sharey=True)\n",
    "ratio_region_s_normed.plot.bar(stacked=True, color=colors_1, ax=axes)\n",
    "axes.set_title('Ratio of students and faculty members by region')\n",
    "axes.legend(labels=['students', 'faculty members'], bbox_to_anchor=(1.05, 1), loc=2, borderaxespad=0.)\n",
    "axes.set_ylim([0.8,1])\n",
    "axes.yaxis.grid(True)\n",
    "fig.autofmt_xdate()\n",
    "plt.show()"
   ]
  },
  {
   "cell_type": "code",
   "execution_count": null,
   "metadata": {},
   "outputs": [],
   "source": [
    "ratio_region_s = top_universities.groupby(['region'])['students_international', 'students_national'].sum()\n",
    "ratio_region_s_normed = ratio_region_s.div(ratio_region_s.sum(1), axis=0).sort_values(by='students_international', ascending=False)\n",
    "ratio_region_s_normed.index.name = None\n",
    "\n",
    "fig, axes = plt.subplots(1, 1, figsize=(10,5), sharey=True)\n",
    "ratio_region_s_normed.plot.bar(stacked=True, color=colors_2, ax=axes)\n",
    "axes.set_title('Ratio of international and national students by region')\n",
    "axes.legend(labels=['international students', 'national students'], bbox_to_anchor=(1.05, 1), loc=2, borderaxespad=0.)\n",
    "axes.set_ylim([0,0.4])\n",
    "axes.yaxis.grid(True)\n",
    "fig.autofmt_xdate()\n",
    "plt.show()"
   ]
  },
  {
   "cell_type": "markdown",
   "metadata": {},
   "source": [
    "**Comments:** Asia is the region offering more faculty members to its students. It is followed by North America and Europe. The most international university in terms of students is Oceania. Europe is second."
   ]
  },
  {
   "cell_type": "markdown",
   "metadata": {},
   "source": [
    "### Analysis of the two methods\n",
    "\n",
    "We get consistent results comparing the results obtained by region or by country about the ratio of international students. By country, we get Australia and by region, Oceania. This makes sense as Australia owns nine of the eleven top_universities of Oceania. "
   ]
  },
  {
   "cell_type": "markdown",
   "metadata": {},
   "source": [
    "# www.timeshighereducation.com"
   ]
  },
  {
   "cell_type": "code",
   "execution_count": null,
   "metadata": {},
   "outputs": [],
   "source": [
    "# we repeat the same procedure as for www.topuniversities.com\n",
    "root_url_2 = 'https://www.timeshighereducation.com'\n",
    "list_url_2 = root_url_2 + '/sites/default/files/the_data_rankings/world_university_rankings_2018_limit0_369a9045a203e176392b9fb8f8c1cb2a.json'\n",
    "\n",
    "r = requests.get(list_url_2)\n",
    "times_higher_education = pd.DataFrame()\n",
    "times_higher_education = times_higher_education.from_dict(r.json()['data'])[['rank', 'location', 'location', 'name', 'url', 'stats_number_students', 'stats_pc_intl_students', 'stats_student_staff_ratio']]\n",
    "\n",
    "# rename columns as is the first dataframe\n",
    "times_higher_education.columns = ['overall_rank', 'location', 'region', 'name', 'url', 'students_total', 'ratio_inter', 'student_staff_ratio']\n",
    "\n",
    "\n",
    "# as the ranks have different represetation we had to delete the '=' in front of universities that have the same rank,\n",
    "# rewrite the rank when it is represented as an interval (ex: 201-250) and finally delete the '+' in the end for the last ones \n",
    "times_higher_education['overall_rank'] = times_higher_education['overall_rank'].apply(lambda rank: re.sub('[=]', '', rank))\n",
    "times_higher_education['overall_rank'] = times_higher_education['overall_rank'].apply(lambda rank: rank.split('–')[0])\n",
    "times_higher_education['overall_rank'] = times_higher_education['overall_rank'].apply(lambda rank: re.sub('[+]', '', rank)).astype(int)\n",
    "\n",
    "# remaps a ranking in order to make selection by ranking easier\n",
    "# ex: 1,2,3,3,5,6,7 -> 1,2,3,3,4,5,6\n",
    "def remap_ranking(rank):\n",
    "    last=0\n",
    "    for i in range(len(rank)):\n",
    "        if last == rank[i]-1:\n",
    "            #no problem\n",
    "            last = rank[i]\n",
    "        elif last != rank[i]:\n",
    "            last = last+1\n",
    "            rank[i] = last\n",
    "            rank[(i+1):] = rank[(i+1):]-1\n",
    "    return rank\n",
    "\n",
    "times_higher_education['overall_rank'] = remap_ranking(times_higher_education['overall_rank'].copy())\n",
    "\n",
    "\n",
    "# in the following lines we make the necessary transformation in order to get the right type or numbers for each column\n",
    "times_higher_education['students_total'] = times_higher_education['students_total'].apply(lambda x: re.sub('[^0-9]','', x)).astype(int) \n",
    "times_higher_education['ratio_inter'] = times_higher_education['ratio_inter'].apply(lambda x: re.sub('[^0-9]','', x)).astype(float) \n",
    "times_higher_education['student_staff_ratio'] = times_higher_education['student_staff_ratio'].astype(float) \n",
    "\n",
    "times_higher_education['students_international'] = (times_higher_education['students_total'] * (times_higher_education['ratio_inter']/100)).astype(int)\n",
    "times_higher_education['students_national'] = times_higher_education['students_total'] - times_higher_education['students_international']\n",
    "\n",
    "times_higher_education['faculty_total'] = (times_higher_education['students_total'] / times_higher_education['student_staff_ratio']).astype(int)\n",
    "times_higher_education['faculty_international'] = np.NaN\n",
    "times_higher_education['faculty_national'] = np.NaN \n",
    "\n",
    "times_higher_education['region'] = np.NaN\n",
    "\n",
    "# resolve ties\n",
    "times_higher_education['overall_rank'] = np.arange(1, times_higher_education.shape[0]+1)\n",
    "\n",
    "\n",
    "# resolve N/A region\n",
    "loc_to_reg = top_universities[['location', 'region']]\n",
    "loc_to_reg = set(loc_to_reg.apply(lambda x: '{}_{}'.format(x['location'], x['region']), axis=1).values)\n",
    "loc_to_reg = {x.split('_')[0]: x.split('_')[1] for x in loc_to_reg}\n",
    "from collections import defaultdict\n",
    "loc_to_reg = defaultdict(lambda: 'N/A', loc_to_reg)\n",
    "#from incf.countryutils import transformations\n",
    "def resolve_uni(x):\n",
    "    x['region'] = loc_to_reg[x['location']]\n",
    "    #x['region'] = transformations.cn_to_ctn(x['location'])\n",
    "    return x\n",
    "\n",
    "times_higher_education = times_higher_education.apply(resolve_uni, axis=1)\n",
    "\n",
    "del times_higher_education['ratio_inter']\n",
    "del times_higher_education['student_staff_ratio']"
   ]
  },
  {
   "cell_type": "code",
   "execution_count": null,
   "metadata": {},
   "outputs": [],
   "source": [
    "# get only the first top-200 universities by overall rank\n",
    "times_higher_education = select_top_N(times_higher_education, 'overall_rank', NUM_OBS)\n",
    "times_higher_education.head()"
   ]
  },
  {
   "cell_type": "markdown",
   "metadata": {},
   "source": [
    "# Best universities in term of:\n",
    "\n",
    "We selected the top 10 universities in point (a) and (b). For point (c) and (d), the top 200 universities were used in order to have more data.\n",
    "\n",
    "## (a) ratio between faculty members and students"
   ]
  },
  {
   "cell_type": "code",
   "execution_count": null,
   "metadata": {
    "collapsed": true
   },
   "outputs": [],
   "source": [
    "top = 10\n",
    "times_higher_education_ratio = select_top_N(times_higher_education, 'overall_rank', top)"
   ]
  },
  {
   "cell_type": "code",
   "execution_count": null,
   "metadata": {},
   "outputs": [],
   "source": [
    "times_higher_education_ratio_sf = times_higher_education_ratio[['name', 'students_total', 'faculty_total']]\n",
    "times_higher_education_ratio_sf = times_higher_education_ratio_sf.set_index(['name'])\n",
    "times_higher_education_ratio_normed = times_higher_education_ratio_sf.div(times_higher_education_ratio_sf.sum(1), axis=0).sort_values(by='faculty_total', ascending=False)\n",
    "times_higher_education_ratio_normed.index.name = None\n",
    "\n",
    "fig, axes = plt.subplots(1, 1, figsize=(10,5), sharey=True)\n",
    "times_higher_education_ratio_normed.plot.bar(stacked=True, color=colors_1, ax=axes)\n",
    "axes.set_title('Top 10 ratio\\'s between students and faculty members among universities')\n",
    "axes.legend(labels=['students', 'faculty members'], bbox_to_anchor=(1.05, 1), loc=2, borderaxespad=0.)\n",
    "axes.set_ylim([0.8,1])\n",
    "fig.autofmt_xdate()\n",
    "plt.show()"
   ]
  },
  {
   "cell_type": "markdown",
   "metadata": {},
   "source": [
    "**Comments**: The university of Chicago is the faculty with the more faculty members by students. It is closely followed by the California Institute of Technology."
   ]
  },
  {
   "cell_type": "markdown",
   "metadata": {},
   "source": [
    "## (b) ratio of international students"
   ]
  },
  {
   "cell_type": "code",
   "execution_count": null,
   "metadata": {},
   "outputs": [],
   "source": [
    "times_higher_education_ratio_s = times_higher_education_ratio[['name', 'students_international', 'students_national']]\n",
    "times_higher_education_ratio_s = times_higher_education_ratio_s.set_index(['name'])\n",
    "times_higher_education_ratio_s_normed = times_higher_education_ratio_s.div(times_higher_education_ratio_s.sum(1), axis=0).sort_values(by='students_international', ascending=False)\n",
    "times_higher_education_ratio_s_normed.index.name = None\n",
    "\n",
    "fig, axes = plt.subplots(1, 1, figsize=(10, 5))\n",
    "times_higher_education_ratio_s_normed.plot.bar(stacked=True, color=colors_2, ax=axes)\n",
    "axes.set_title('Top 10 ratio\\'s of international and national students among universities')\n",
    "axes.legend(labels=['international students', 'national students'], bbox_to_anchor=(1.05, 1), loc=2, borderaxespad=0.)\n",
    "axes.set_ylim([0.2, 0.6])\n",
    "fig.autofmt_xdate()\n",
    "plt.show()"
   ]
  },
  {
   "cell_type": "markdown",
   "metadata": {},
   "source": [
    "**Comments:** The Imperial College Longon university has a strong lead in the internationalization of its student. Oxford and ETHZ are following bunched together."
   ]
  },
  {
   "cell_type": "markdown",
   "metadata": {},
   "source": [
    "## (c) same comparisons by country"
   ]
  },
  {
   "cell_type": "code",
   "execution_count": null,
   "metadata": {},
   "outputs": [],
   "source": [
    "ratio_country_sf = times_higher_education.groupby(['location'])['students_total', 'faculty_total'].sum()\n",
    "ratio_country_sf_normed = ratio_country_sf.div(ratio_country_sf.sum(1), axis=0).sort_values(by='faculty_total', ascending=False)\n",
    "ratio_country_sf_normed.index.name = None\n",
    "\n",
    "fig, axes = plt.subplots(1, 1, figsize=(15, 5))\n",
    "ratio_country_sf_normed.plot.bar(stacked=True, color=colors_1, ax=axes)\n",
    "axes.set_title('Ratio of students and faculty members by country')\n",
    "axes.legend(labels=['students', 'faculty members'], bbox_to_anchor=(1.05, 1), loc=2, borderaxespad=0.)\n",
    "axes.set_ylim([0.8,1])\n",
    "fig.autofmt_xdate()\n",
    "plt.show()"
   ]
  },
  {
   "cell_type": "markdown",
   "metadata": {},
   "source": [
    "**Comments:** Denmark is in the first position. We find the Russian Federation in the second place. This is the same result obtained with the top universities website the other way around. This shows that either the universities of each country have different ranking in each website or each website has different information about each university."
   ]
  },
  {
   "cell_type": "code",
   "execution_count": null,
   "metadata": {},
   "outputs": [],
   "source": [
    "ratio_country_s = times_higher_education.groupby(['location'])['students_international', 'students_national'].sum()\n",
    "ratio_country_s_normed = ratio_country_s.div(ratio_country_s.sum(1), axis=0).sort_values(by='students_international', ascending=False)\n",
    "ratio_country_s_normed.index.name = None\n",
    "\n",
    "fig, axes = plt.subplots(1, 1, figsize=(15, 5))\n",
    "ratio_country_s_normed.plot.bar(stacked=True, color=colors_2, ax=axes)\n",
    "axes.set_title('Ratio of international and national students by country')\n",
    "axes.legend(labels=['international students', 'national students'], bbox_to_anchor=(1.05, 1), loc=2, borderaxespad=0.)\n",
    "axes.set_ylim([0, 0.6])\n",
    "fig.autofmt_xdate()\n",
    "plt.show()"
   ]
  },
  {
   "cell_type": "markdown",
   "metadata": {},
   "source": [
    "**Comments:** Luxembourg has more international than national students which allows it to be in first position without difficulty. Switzerland is in the sixth position (versus fifth for top university website)."
   ]
  },
  {
   "cell_type": "markdown",
   "metadata": {},
   "source": [
    "## (d) same comparisons by region"
   ]
  },
  {
   "cell_type": "code",
   "execution_count": null,
   "metadata": {},
   "outputs": [],
   "source": [
    "ratio_region_s = times_higher_education.groupby(['region'])['students_total', 'faculty_total'].sum()\n",
    "ratio_region_s_normed = ratio_region_s.div(ratio_region_s.sum(1), axis=0).sort_values(by='faculty_total', ascending=False)\n",
    "ratio_region_s_normed.index.name = None\n",
    "\n",
    "fig, axes = plt.subplots(1, 1, figsize=(10,5), sharey=True)\n",
    "ratio_region_s_normed.plot.bar(stacked=True, color=colors_1, ax=axes)\n",
    "axes.set_title('Ratio of students and faculty members by region')\n",
    "axes.legend(labels=['students', 'faculty members'], bbox_to_anchor=(1.05, 1), loc=2, borderaxespad=0.)\n",
    "axes.set_ylim([0.8,1])\n",
    "axes.yaxis.grid(True)\n",
    "fig.autofmt_xdate()\n",
    "plt.show()"
   ]
  },
  {
   "cell_type": "code",
   "execution_count": null,
   "metadata": {},
   "outputs": [],
   "source": [
    "ratio_region_s = times_higher_education.groupby(['region'])['students_international', 'students_national'].sum()\n",
    "ratio_region_s_normed = ratio_region_s.div(ratio_region_s.sum(1), axis=0).sort_values(by='students_international', ascending=False)\n",
    "ratio_region_s_normed.index.name = None\n",
    "\n",
    "fig, axes = plt.subplots(1, 1, figsize=(10,5), sharey=True)\n",
    "ratio_region_s_normed.plot.bar(stacked=True, color=colors_2, ax=axes)\n",
    "axes.set_title('Ratio of international and national students by region')\n",
    "axes.legend(labels=['international students', 'national students'], bbox_to_anchor=(1.05, 1), loc=2, borderaxespad=0.)\n",
    "axes.set_ylim([0,0.3])\n",
    "axes.yaxis.grid(True)\n",
    "fig.autofmt_xdate()\n",
    "plt.show()"
   ]
  },
  {
   "cell_type": "code",
   "execution_count": null,
   "metadata": {},
   "outputs": [],
   "source": [
    "# Try to detect same universities with different name in the two dataframe before merging\n",
    "# Using Jaccard similarity and same location rule (seems to keep matching entry)\n",
    "def t(x):\n",
    "    # Compute Jaccard score (intersection over union)\n",
    "    def jaccard(a, b):\n",
    "        u = set(a.split(' '))\n",
    "        v = set(b.split(' '))\n",
    "        return len(u.intersection(v)) / len(u.union(v))\n",
    "        \n",
    "    names = top_universities['name'].tolist()\n",
    "    locations = top_universities['location'].tolist()\n",
    "    scores = np.array([jaccard(x['name'], n) for n in names])\n",
    "    m = scores.max()\n",
    "    i = scores.argmax()\n",
    "    # Jaccard score for similarity and location match to filter out  name with different location\n",
    "    if m > 0.5 and x['location'] == locations[i]:\n",
    "        #print(x['name'], '-->', names[i], m)\n",
    "        #print(x['location'], '|'  ,locations[i])\n",
    "        #print('-----')\n",
    "        x['name'] = names[i]\n",
    "    return x\n",
    "    \n",
    "# Try to match universities name in both dataframe    \n",
    "times_higher_education = times_higher_education.apply(t, axis=1)\n",
    "# Keep intersection on the name column of the two datasets \n",
    "merged = pd.merge(top_universities, times_higher_education, on='name', how='inner')\n",
    "\n",
    "merged.head()"
   ]
  },
  {
   "cell_type": "markdown",
   "metadata": {},
   "source": [
    "# Insights\n",
    "Here we first proceed by creating the correlation matrix (since it's a symetric matrix we only kept the lower triangle). We then plot it using a heatmap to see correlation between columns of the dataframe. We also made another heatmap with only correlation whose absolute value is greater than 0.5. Finally we averaged the features when they were available for the two websites (except rankings).\n",
    "\n",
    "## Correlations analysis\n",
    "Some correlations bring interesting information:\n",
    "- $Corr(overall\\_rank\\_x, overall\\_rank\\_y) = 0.7$ <br />\n",
    "We get a strong correlation between the ranking of the first website and the second one. It shows us that the two website ranking methods lead on similar results (since the correlation is positive). It's insightfull since even if the features are approximately the same for the two websites, their methodology to attribute a rank could be really different. This important positive correlation reveals that the methodologies doesn't differ so much between the two websites.\n",
    "- $Corr(students\\_international\\_avg, faculty\\_international\\_avg) = 0.59$ <br />\n",
    "Here we have an interesting correlation between the number of international students and the number of international staff members.\n",
    "- We have strong correlation between same features but coming from different websites. It's not really interesting since difference in same features from the two websites are likely to be small. Also we have important correlation between \"total\" features and their sub-categories like \"international\" and \"national\". These are not interesting too because they follow a simple relation: when the total is higher, the sub-categories are likely to be higher numbers too (i.e. if we have more students, we are likely to have more national or international students)"
   ]
  },
  {
   "cell_type": "code",
   "execution_count": null,
   "metadata": {},
   "outputs": [],
   "source": [
    "merged_num = merged.select_dtypes(include=[np.number])\n",
    "merged_num.dropna(how='all', axis=1)\n",
    "merged_num.dropna(how='any', axis=0)\n",
    "\n",
    "def avg_feature(x):\n",
    "    cols = set([x for x in x.index if 'overall' not in x])\n",
    "    cols_common = set([x[0:-2] for x in cols])\n",
    "    for cc in cols_common:\n",
    "        cc_x = '{}_x'.format(cc)\n",
    "        cc_y = '{}_y'.format(cc)\n",
    "        if cc_y in cols:\n",
    "            x['{}_avg'.format(cc)] = (x[cc_x] + x[cc_y]) / 2\n",
    "        else:\n",
    "            x['{}_avg'.format(cc)] = x[cc_x] / 2\n",
    "    for c in cols:\n",
    "        del x[c]\n",
    "    return x\n",
    "    \n",
    "merged_num_avg = merged_num.apply(avg_feature, axis=1)\n",
    "\n",
    "merged_num.head()\n",
    "corr = merged_num.corr()\n",
    "mask = np.zeros_like(corr, dtype=np.bool)\n",
    "mask[np.triu_indices_from(mask)] = True\n",
    "\n",
    "fig, ax = plt.subplots(figsize=(10,10))\n",
    "sns.heatmap(corr, ax=ax, mask=mask, annot=True, square=True)\n",
    "plt.show()\n",
    "\n",
    "# Keep only correlation with and absolute value superior to 0.5 \n",
    "corr[(corr < 0.5) & (corr > -0.5)] = 0\n",
    "fig, ax = plt.subplots(figsize=(10,10))\n",
    "sns.heatmap(corr, ax=ax, mask=mask, annot=True, square=True)\n",
    "plt.show()\n",
    "\n",
    "# Keep only correlation with and absolute value superior to 0.5 for averaged features\n",
    "corr = merged_num_avg.corr()\n",
    "mask = np.zeros_like(corr, dtype=np.bool)\n",
    "mask[np.triu_indices_from(mask)] = True\n",
    "corr[(corr < 0.5) & (corr > -0.5)] = 0\n",
    "fig, ax = plt.subplots(figsize=(10,10))\n",
    "sns.heatmap(corr, ax=ax, mask=mask, annot=True, square=True)\n",
    "plt.show()"
   ]
  },
  {
   "cell_type": "markdown",
   "metadata": {},
   "source": [
    "# Best university\n",
    "\n",
    "First we have to transform ranking in some score. Here we assume a linear relation for the score given the ranking,\n",
    "so we gave a score of 1 for the best ranking and 0 for the worst ranking with linear mapping between these two. We did it for each of the ranking (the two websites).\n",
    "Also we don't really know if a website is most trustworthy than the other, so a good merging for the ranking would be to take the average of the two scores with equal weights for each score.\n",
    "Finally we also took into account the ration of staff member per students:\n",
    "\n",
    "$finalScore = mean(score1, score2, staff per studiants)$\n",
    "\n",
    "\n",
    "After computing these values, we found that Caltech is the best university (according to our assumptions).\n",
    "\n",
    "Per Website ranking:\n",
    "\n",
    "Caltech: top_universities -> 4 | times_higher_education = -> 3 | staff per student ration -> 0.15 | => final score: 0.71"
   ]
  },
  {
   "cell_type": "code",
   "execution_count": null,
   "metadata": {},
   "outputs": [],
   "source": [
    "r = merged[['name', 'overall_rank_x', 'overall_rank_y']]\n",
    "r.head()\n",
    "\n",
    "def lin(df):\n",
    "    best_rank = df.min() \n",
    "    worst_rank = df.max() \n",
    "    a = 1 / (best_rank - worst_rank)\n",
    "    b = 1 - a*best_rank\n",
    "    return df.apply(lambda x: a*x + b)\n",
    "\n",
    "r['stud_staff_ratio'] = merged[['faculty_international_x', 'faculty_international_y']].mean(axis=1) / \\\n",
    "                        merged[['students_total_x', 'students_total_y']].mean(axis=1)\n",
    "r['score_x'] = lin(r['overall_rank_x'])\n",
    "r['score_y'] = lin(r['overall_rank_y'])\n",
    "r['overall_score'] = r[['score_x', 'score_y', 'stud_staff_ratio']].mean(axis=1) \n",
    "r = r.dropna()\n",
    "\n",
    "r[r['overall_score'] == r['overall_score'].max()]"
   ]
  }
 ],
 "metadata": {
  "kernelspec": {
   "display_name": "Python 3",
   "language": "python",
   "name": "python3"
  },
  "language_info": {
   "codemirror_mode": {
    "name": "ipython",
    "version": 3
   },
   "file_extension": ".py",
   "mimetype": "text/x-python",
   "name": "python",
   "nbconvert_exporter": "python",
   "pygments_lexer": "ipython3",
   "version": "3.6.2"
  }
 },
 "nbformat": 4,
 "nbformat_minor": 2
}
