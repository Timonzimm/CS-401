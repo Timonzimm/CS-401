{
 "cells": [
  {
   "cell_type": "code",
   "execution_count": null,
   "metadata": {
    "collapsed": true
   },
   "outputs": [],
   "source": [
    "import pandas as pd\n",
    "import glob"
   ]
  },
  {
   "cell_type": "markdown",
   "metadata": {},
   "source": [
    "# Table of Contents\n",
    " <p><div class=\"lev1\"><a href=\"#Task-1.-Compiling-Ebola-Data\"><span class=\"toc-item-num\">Task 1.&nbsp;&nbsp;</span>Compiling Ebola Data</a></div>\n",
    " <div class=\"lev1\"><a href=\"#Task-2.-RNA-Sequences\"><span class=\"toc-item-num\">Task 2.&nbsp;&nbsp;</span>RNA Sequences</a></div>\n",
    " <div class=\"lev1\"><a href=\"#Task-3.-Class-War-in-Titanic\"><span class=\"toc-item-num\">Task 3.&nbsp;&nbsp;</span>Class War in Titanic</a></div></p>"
   ]
  },
  {
   "cell_type": "code",
   "execution_count": null,
   "metadata": {
    "collapsed": true
   },
   "outputs": [],
   "source": [
    "DATA_FOLDER = 'Data' # Use the data folder provided in Tutorial 02 - Intro to Pandas."
   ]
  },
  {
   "cell_type": "markdown",
   "metadata": {},
   "source": [
    "## Task 1. Compiling Ebola Data\n",
    "\n",
    "The `DATA_FOLDER/ebola` folder contains summarized reports of Ebola cases from three countries (Guinea, Liberia and Sierra Leone) during the recent outbreak of the disease in West Africa. For each country, there are daily reports that contain various information about the outbreak in several cities in each country.\n",
    "\n",
    "Use pandas to import these data files into a single `Dataframe`.\n",
    "Using this `DataFrame`, calculate for *each country*, the *daily average* per year of *new cases* and *deaths*.\n",
    "Make sure you handle all the different expressions for *new cases* and *deaths* that are used in the reports."
   ]
  },
  {
   "cell_type": "markdown",
   "metadata": {},
   "source": [
    "---\n",
    "### Main idea :\n",
    "\n",
    "1. group reports by country, and group them creating a new `Country` row\n",
    "2. calculate for each country, *daily average* per year of *new cases* and *deaths* \n"
   ]
  },
  {
   "cell_type": "markdown",
   "metadata": {},
   "source": [
    "---\n",
    "1.\n"
   ]
  },
  {
   "cell_type": "code",
   "execution_count": null,
   "metadata": {},
   "outputs": [],
   "source": [
    "path = \"Data/ebola\"\n",
    "countries = [(\"Guinea\",\"guinea_data\"), (\"Liberia\",\"liberia_data\"), (\"Sierra Leone\",\"sl_data\")]\n",
    "\n",
    "data = pd.DataFrame()\n",
    "\n",
    "for country in countries:\n",
    "    allFiles = glob.glob(path + \"/\" + country[1] + \"/\" + \"/*csv\")\n",
    "    data_per_country = pd.concat((pd.read_csv(file) for file in allFiles), axis=0)\n",
    "    data_per_country['Country'] = country[0]\n",
    "    data = pd.concat([data, data_per_country])\n",
    "\n",
    "# merge columns 'Date' and 'date'\n",
    "data['Date'] = pd.concat([data['Date'].dropna(), data['date'].dropna()])\n",
    "data = data.drop('date', axis=1)\n",
    "\n",
    "# re-ordering indexes\n",
    "data.set_index(['Country', 'Date']).head()\n"
   ]
  },
  {
   "cell_type": "markdown",
   "metadata": {},
   "source": [
    "---\n",
    "2."
   ]
  },
  {
   "cell_type": "code",
   "execution_count": null,
   "metadata": {},
   "outputs": [],
   "source": [
    "# Guinea \n",
    "# drop useless content\n",
    "data_cleaned_guinea = data.query('Country == \"Guinea\"').dropna(axis=1, how='all').set_index(['Date','Description'])['Totals']\n",
    "data_cleaned_guinea = data_cleaned_guinea.unstack('Description')\n",
    "\n",
    "mean_dailyNewCases_guinea = data_cleaned_guinea['Total new cases registered so far'].astype(float).mean()\n",
    "mean_dailyNewDeaths_guinea = data_cleaned_guinea['New deaths registered'].astype(float).mean()\n",
    "\n",
    "print(\"Guinea : \", mean_dailyNewCases_guinea, \" / \", mean_dailyNewDeaths_guinea)\n",
    "\n",
    "# Liberia\n",
    "data_cleaned_liberia = data.query('Country == \"Liberia\"').dropna(axis=1, how='all').set_index(['Date','Variable'])['National'].astype(float)\n",
    "data_cleaned_liberia = pd.pivot_table(data_cleaned_liberia.reset_index(), values='National', index='Date', columns='Variable')\n",
    "\n",
    "mean_dailyNewCases_liberia = data_cleaned_liberia[['New Case/s (Suspected)', 'New Case/s (Probable)', 'New case/s (confirmed)']].sum(axis=1).mean()\n",
    "mean_dailyNewDeaths_liberia = data_cleaned_liberia['Newly reported deaths'].mean() #.csv file from 12/09/2014 may has been wrongly fulfilled\n",
    "\n",
    "print(\"Libera : \", mean_dailyNewCases_liberia, \" / \", mean_dailyNewDeaths_liberia)\n",
    "\n"
   ]
  },
  {
   "cell_type": "markdown",
   "metadata": {},
   "source": [
    "## Task 2. RNA Sequences\n",
    "\n",
    "In the `DATA_FOLDER/microbiome` subdirectory, there are 9 spreadsheets of microbiome data that was acquired from high-throughput RNA sequencing procedures, along with a 10<sup>th</sup> file that describes the content of each. \n",
    "\n",
    "Use pandas to import the first 9 spreadsheets into a single `DataFrame`.\n",
    "Then, add the metadata information from the 10<sup>th</sup> spreadsheet as columns in the combined `DataFrame`.\n",
    "Make sure that the final `DataFrame` has a unique index and all the `NaN` values have been replaced by the tag `unknown`."
   ]
  },
  {
   "cell_type": "code",
   "execution_count": null,
   "metadata": {
    "collapsed": true
   },
   "outputs": [],
   "source": [
    "# Write your answer here"
   ]
  },
  {
   "cell_type": "markdown",
   "metadata": {},
   "source": [
    "## Task 3. Class War in Titanic\n",
    "\n",
    "Use pandas to import the data file `Data/titanic.xls`. It contains data on all the passengers that travelled on the Titanic."
   ]
  },
  {
   "cell_type": "code",
   "execution_count": null,
   "metadata": {
    "collapsed": true
   },
   "outputs": [],
   "source": [
    "from IPython.core.display import HTML\n",
    "HTML(filename=DATA_FOLDER+'/titanic.html')"
   ]
  },
  {
   "cell_type": "markdown",
   "metadata": {},
   "source": [
    "For each of the following questions state clearly your assumptions and discuss your findings:\n",
    "1. Describe the *type* and the *value range* of each attribute. Indicate and transform the attributes that can be `Categorical`. \n",
    "2. Plot histograms for the *travel class*, *embarkation port*, *sex* and *age* attributes. For the latter one, use *discrete decade intervals*. \n",
    "3. Calculate the proportion of passengers by *cabin floor*. Present your results in a *pie chart*.\n",
    "4. For each *travel class*, calculate the proportion of the passengers that survived. Present your results in *pie charts*.\n",
    "5. Calculate the proportion of the passengers that survived by *travel class* and *sex*. Present your results in *a single histogram*.\n",
    "6. Create 2 equally populated *age categories* and calculate survival proportions by *age category*, *travel class* and *sex*. Present your results in a `DataFrame` with unique index."
   ]
  },
  {
   "cell_type": "code",
   "execution_count": null,
   "metadata": {
    "collapsed": true
   },
   "outputs": [],
   "source": [
    "# Write your answer here"
   ]
  }
 ],
 "metadata": {
  "kernelspec": {
   "display_name": "Python 3",
   "language": "python",
   "name": "python3"
  },
  "language_info": {
   "codemirror_mode": {
    "name": "ipython",
    "version": 3
   },
   "file_extension": ".py",
   "mimetype": "text/x-python",
   "name": "python",
   "nbconvert_exporter": "python",
   "pygments_lexer": "ipython3",
   "version": "3.5.3"
  }
 },
 "nbformat": 4,
 "nbformat_minor": 2
}
