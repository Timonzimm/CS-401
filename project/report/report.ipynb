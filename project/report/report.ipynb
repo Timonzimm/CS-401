{
 "cells": [
  {
   "cell_type": "markdown",
   "metadata": {},
   "source": [
    "# Impact of Terrorism on World Development"
   ]
  },
  {
   "cell_type": "markdown",
   "metadata": {},
   "source": [
    "## Datasets description\n",
    "\n",
    "[Global Terrorism Database](https://www.kaggle.com/START-UMD/gtd)\n",
    "\n",
    "This dataset contains information on more than 170,000 terrorit attacks. The Global Terrorism Database (GTD) is an open-source database including information on terrorist events around the world from 1970 through 2016 (with annual updates planned for the future). Unlike many other event databases, the GTD includes systematic data on domestic as well as international terrorist incidents that have occurred during this time period and now includes more than 170,000 cases. [Learn more.](http://start.umd.edu/gtd/)\n",
    "\n",
    "\n",
    "For more precise information about important details like definitions, collection methodoloy and others plese see the [GTD Codebook](http://start.umd.edu/gtd/downloads/Codebook.pdf).\n",
    "\n",
    "\n",
    "**Format** : CSV &nbsp;&nbsp;&nbsp;&nbsp; **Size** : 29 MB\n",
    "\n",
    "\n",
    "[World Development Indicators](https://www.kaggle.com/worldbank/world-development-indicators)\n",
    "\n",
    "The World Development Indicators from the World Bank contain over a thousand annual indicators of economic development from hundreds of countries around the world.\n",
    "\n",
    "Here's a [list of the available indicators](https://www.kaggle.com/benhamner/indicators-in-data) along with a [list of the available countries](https://www.kaggle.com/benhamner/countries-in-the-wdi-data).\n",
    "\n",
    "\n",
    "**Format** : SQLITE &nbsp;&nbsp;&nbsp;&nbsp; **Size** : 261 MB"
   ]
  },
  {
   "cell_type": "markdown",
   "metadata": {},
   "source": [
    "## Data cleaning and merging"
   ]
  },
  {
   "cell_type": "code",
   "execution_count": 2,
   "metadata": {
    "collapsed": true
   },
   "outputs": [],
   "source": []
  },
  {
   "cell_type": "markdown",
   "metadata": {},
   "source": [
    "## Data exploration"
   ]
  },
  {
   "cell_type": "code",
   "execution_count": null,
   "metadata": {
    "collapsed": true
   },
   "outputs": [],
   "source": []
  }
 ],
 "metadata": {
  "kernelspec": {
   "display_name": "Python 3",
   "language": "python",
   "name": "python3"
  },
  "language_info": {
   "codemirror_mode": {
    "name": "ipython",
    "version": 3
   },
   "file_extension": ".py",
   "mimetype": "text/x-python",
   "name": "python",
   "nbconvert_exporter": "python",
   "pygments_lexer": "ipython3",
   "version": "3.5.3"
  }
 },
 "nbformat": 4,
 "nbformat_minor": 2
}
